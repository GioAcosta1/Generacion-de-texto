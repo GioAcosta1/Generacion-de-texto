{
  "nbformat": 4,
  "nbformat_minor": 0,
  "metadata": {
    "colab": {
      "provenance": [],
      "collapsed_sections": [],
      "include_colab_link": true
    },
    "kernelspec": {
      "name": "python3",
      "display_name": "Python 3"
    },
    "language_info": {
      "name": "python"
    }
  },
  "cells": [
    {
      "cell_type": "markdown",
      "metadata": {
        "id": "view-in-github",
        "colab_type": "text"
      },
      "source": [
        "<a href=\"https://colab.research.google.com/github/GioAcosta1/Generacion-de-texto/blob/main/PREDICCION_DE_TEXTO.ipynb\" target=\"_parent\"><img src=\"https://colab.research.google.com/assets/colab-badge.svg\" alt=\"Open In Colab\"/></a>"
      ]
    },
    {
      "cell_type": "markdown",
      "source": [
        "# **Práctica #3: Modelo para generación de texto**\n",
        "\n",
        "*Centro Universitario de Ciencias Exactas e Ingenierías*\n",
        "\n",
        "*División de Tecnologías para la Integración Ciber-Humana*\n",
        "\n",
        "*Ingeniería Biomédica*\n",
        "\n",
        "<br>\n",
        "\n",
        "*Mtra. Sofía Alejandra Aguilar Valdez*\n",
        "\n",
        "14 de octubre de 2022"
      ],
      "metadata": {
        "id": "nVx-kou4pjFk"
      }
    },
    {
      "cell_type": "code",
      "source": [
        "#Github\n",
        "\n",
        "!git config --global user.email “edgar.acosta5908@alumnos.udg.mx”"
      ],
      "metadata": {
        "id": "dE3dNGeHU2lc"
      },
      "execution_count": 1,
      "outputs": []
    },
    {
      "cell_type": "code",
      "source": [
        "!git config --global user.name “GioAcosta1”"
      ],
      "metadata": {
        "id": "tHZQD2c5U-LE"
      },
      "execution_count": 2,
      "outputs": []
    },
    {
      "cell_type": "code",
      "source": [
        "!git clone https://github.com/GioAcosta1/Generacion-de-texto.git"
      ],
      "metadata": {
        "colab": {
          "base_uri": "https://localhost:8080/"
        },
        "id": "CzXUsbD9U_7K",
        "outputId": "46582611-a951-4b7c-f4cb-7220e696c313"
      },
      "execution_count": 3,
      "outputs": [
        {
          "output_type": "stream",
          "name": "stdout",
          "text": [
            "Cloning into 'Generacion-de-texto'...\n",
            "remote: Enumerating objects: 3, done.\u001b[K\n",
            "remote: Counting objects: 100% (3/3), done.\u001b[K\n",
            "remote: Total 3 (delta 0), reused 0 (delta 0), pack-reused 0\u001b[K\n",
            "Unpacking objects: 100% (3/3), done.\n"
          ]
        }
      ]
    },
    {
      "cell_type": "code",
      "source": [
        "for i in range(10):\n",
        "  print(i)"
      ],
      "metadata": {
        "id": "1bL2wSH7j9tb"
      },
      "execution_count": null,
      "outputs": []
    },
    {
      "cell_type": "code",
      "source": [
        "%cd Generacion-de-texto/"
      ],
      "metadata": {
        "colab": {
          "base_uri": "https://localhost:8080/"
        },
        "id": "8hkh81hDjqch",
        "outputId": "1cda6ca0-0260-442e-8f5f-cc21d90c148e"
      },
      "execution_count": 4,
      "outputs": [
        {
          "output_type": "stream",
          "name": "stdout",
          "text": [
            "/content/Generacion-de-texto\n"
          ]
        }
      ]
    },
    {
      "cell_type": "code",
      "source": [
        "!git add .\n",
        "!git commit -m 'Data update'  # commit in Colab\n",
        "!git push origin master          # push to github"
      ],
      "metadata": {
        "colab": {
          "base_uri": "https://localhost:8080/"
        },
        "id": "5MqwBI73jubC",
        "outputId": "046f566d-1135-467d-82ad-436033dacdd1"
      },
      "execution_count": 9,
      "outputs": [
        {
          "output_type": "stream",
          "name": "stdout",
          "text": [
            "On branch main\n",
            "Your branch is up to date with 'origin/main'.\n",
            "\n",
            "nothing to commit, working tree clean\n",
            "error: src refspec master does not match any.\n",
            "error: failed to push some refs to 'https://github.com/GioAcosta1/Generacion-de-texto.git'\n"
          ]
        }
      ]
    },
    {
      "cell_type": "markdown",
      "source": [
        "## **Información del equipo**\n",
        "\n",
        "```NOMBRES:```\n",
        "\n",
        "Edgar Giovanni Acosta Martínez\n",
        "\n",
        "```CÓDIGOS:```\n",
        "\n",
        "```LINK REPOSITORIO:```\n",
        "\n"
      ],
      "metadata": {
        "id": "dQNzG9Wm4ZQJ"
      }
    },
    {
      "cell_type": "markdown",
      "source": [
        "## **Contenido**\n",
        "\n",
        "\n",
        "\n",
        "1.   Resumen\n",
        "2.   Marco teórico\n",
        "3.   Objetivos\n",
        "4.   Materiales y métodos\n",
        "5.   Resultados\n",
        "6.   Discusión\n",
        "7.   Conclusiones\n",
        "8.   Referencias\n",
        "\n"
      ],
      "metadata": {
        "id": "QQ_tQMMJpude"
      }
    },
    {
      "cell_type": "markdown",
      "source": [
        "# **1. Resumen**\n",
        "(100-300 palabras)"
      ],
      "metadata": {
        "id": "anvzyOk06GH5"
      }
    },
    {
      "cell_type": "markdown",
      "source": [
        "# **2. Marco teórico**\n",
        "(300-800 palabras)"
      ],
      "metadata": {
        "id": "E8r4C9H26UTK"
      }
    },
    {
      "cell_type": "markdown",
      "source": [
        "# **3. Objetivos**\n",
        "Objetivo general y objetivos específicos"
      ],
      "metadata": {
        "id": "Tcx3QvQN6hWe"
      }
    },
    {
      "cell_type": "markdown",
      "source": [
        "# **4. Materiales y métodos**\n",
        "\n",
        "## *Materiales*\n",
        "\n",
        "Describir este conjunto de datos [[1]](https://www.gutenberg.org/ebooks/42324) (e.g., tipo de secuencia, características).\n",
        "\n",
        "## *Métodos*\n",
        "\n",
        "1. Esquema de metodología (¿qué configuración de RNN utilizarán: seq2seq, ... ?)\n",
        "2. Descripción de los métodos y su implementación en código en forma de narrativa."
      ],
      "metadata": {
        "id": "4rX1w4ZD6mPj"
      }
    },
    {
      "cell_type": "markdown",
      "source": [
        "# **5. Resultados**\n",
        "(300-800 palabras, incluir mínimo 2 figuras)."
      ],
      "metadata": {
        "id": "6s3y9-yUSCL9"
      }
    },
    {
      "cell_type": "markdown",
      "source": [
        "# **6. Discusión**\n",
        "Underfitting, overfitting, o no y el porqué.\n",
        "\n",
        "Comparación de sus resultados con los de literatura asociada."
      ],
      "metadata": {
        "id": "AEt8aII8SPu6"
      }
    },
    {
      "cell_type": "markdown",
      "source": [
        "# **7. Conclusiones**\n",
        "(100-300 palabras)."
      ],
      "metadata": {
        "id": "8Gb2ac0VSryX"
      }
    },
    {
      "cell_type": "markdown",
      "source": [
        "# **8. Referencias**\n",
        "\n",
        "[1] Frankenstein; Or, The Modern Prometheus by Mary Wollstonecraft Shelley. (1818). Project Gutenberg. Recuperado 8 de octubre de 2022, de https://www.gutenberg.org/ebooks/42324"
      ],
      "metadata": {
        "id": "cxRqAiW5sG_m"
      }
    }
  ]
}